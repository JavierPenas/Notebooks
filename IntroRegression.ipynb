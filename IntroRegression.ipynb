{
  "nbformat": 4,
  "nbformat_minor": 0,
  "metadata": {
    "colab": {
      "name": "IntroRegression.ipynb",
      "provenance": [],
      "toc_visible": true
    },
    "kernelspec": {
      "name": "python3",
      "display_name": "Python 3"
    }
  },
  "cells": [
    {
      "cell_type": "code",
      "metadata": {
        "id": "nek8OFslOK6Q"
      },
      "source": [
        "# Import numpy library for math operations\n",
        "import numpy as np"
      ],
      "execution_count": null,
      "outputs": []
    },
    {
      "cell_type": "markdown",
      "metadata": {
        "id": "XcdRRcQkOQjo"
      },
      "source": [
        "# Tipos de problemas\n",
        "Los problemas de aprendizaje supervisado de categorizan en 'Regresión' o 'Calsifiación. En un problema de regresión, intentamos predecir resultados sobre una salida de tipo continua, esto quiere decir que se intente mapear las variables de entrada con un resultado de salida sobre una funcioón continua.\n",
        "En el caso de los problemas de clasificación, lo que se busca es predecir resultados dentre de una salida discreta. En otras palabras, queremos mapear las variables de entrada entre N categorías discretas.\n",
        "\n",
        "# Regresión lineal con una variable\n",
        "\n",
        "Los problemas de regresión lineal con una variable, se conocen como 'Univariate linear regression', y consisten en predecir una salida para una entrada conformada por solo una variable (x).\n",
        "\n",
        "# Función de hipótesis\n",
        "La función de hipótesis es la que nos dará el resultado predecido. Se calcula según el valor de entrada (x) y N parámetros configurables.\n",
        "Esta función, para una única variable tiene el aspecto siguiente:\n",
        "\n",
        "![image.png](data:image/png;base64,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)\n"
      ]
    },
    {
      "cell_type": "markdown",
      "metadata": {
        "id": "tADxukElw-qx"
      },
      "source": [
        "# Regresión\n",
        "\n",
        "# Regresión lineal con una variable\n",
        "\n",
        "Los problemas de regresión lineal con una variable, se conocen como 'Univariate linear regression', y consisten en predecir una salida para una entrada conformada por solo una variable (x).\n",
        "\n",
        "# Función de hipótesis\n",
        "La función de hipótesis es la que nos dará el resultado predecido. Se calcula según el valor de entrada (x) y N parámetros configurables.\n",
        "Esta función, para una única variable tiene el aspecto siguiente:\n",
        "\n",
        "![image.png](data:image/png;base64,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)\n"
      ]
    },
    {
      "cell_type": "code",
      "metadata": {
        "id": "yocdv59WQc8t",
        "colab": {
          "base_uri": "https://localhost:8080/",
          "height": 51
        },
        "outputId": "e2a890f6-ad89-4dd2-feb2-3accdae3ad9d"
      },
      "source": [
        "outputVals = np.array([4, 7, 7, 8])\n",
        "inputVariables = np.array([0, 1, 2, 3])\n",
        "\n",
        "# Si nuestros parámetros son por ejemplo 2 y 2, para la función de hipótesis obtendríamos lo siguiente H0 = 2 + 2x\n",
        "\n",
        "vectorizedFunction = np.vectorize(lambda n: 2+2*n)\n",
        "hypotesis = vectorizedFunction(inputVariables)\n",
        "print(\"Returned hypotesis: \"+str(hypotesis))\n",
        "print(\"Expected values:    \"+str(outputVals))"
      ],
      "execution_count": null,
      "outputs": [
        {
          "output_type": "stream",
          "text": [
            "Returned hypotesis: [2 4 6 8]\n",
            "Expected values:    [4 7 7 8]\n"
          ],
          "name": "stdout"
        }
      ]
    },
    {
      "cell_type": "markdown",
      "metadata": {
        "id": "P5461VSgWsFR"
      },
      "source": [
        "Como vemos, los resultados de las hipótesis difieren mucho de los resultados esperados. Para conseguir mejores resultados, debemos jugar con el valor de los parámetros en busca de aquellos que se '**ajusten**' mejor.\n",
        "\n",
        "Para medir como de lejos del resultado esperado, y asi poder obtener información sobre como debemos ajustar los parámetros, se utiliza una **función de coste**. Esta fórmula tiene en cuenta la media de todos los resultados para las hipótesis con entradas x's comparadas con las salidas esperadas y's:\n",
        "\n",
        "![image.png](data:image/png;base64,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)\n",
        "\n"
      ]
    },
    {
      "cell_type": "markdown",
      "metadata": {
        "id": "FAO2TPWPZ0Zl"
      },
      "source": [
        "De forma más simple, la podemos ver como $\\frac{1}{2}*\\bar{x}$.\n",
        "\n",
        "Donde $\\bar{x}$ es la media de los cuadrados de $h_\\theta(X_i) - y_i$ o la diferencia entre el valor predecido y el valor real.\n",
        "Está función se conoce como '**Error cuadrádico medio**'.\n",
        "\n",
        "Si intentamos ver el objetivo de una forma gráfica, sería el de encontrar una línea recta (definida por $h_\\theta$), que pase entre la nube de puntos definida por nuestros datos. Lo que buscamos es la línea que mejor se acerque a la mayor parte del conjunto. Esto es, que la media de los cuadrados de la distancia predicha y la distancia real sea mínima.\n",
        "En el caso ideal $J(\\theta_0, \\theta_1)=0$.\n",
        "\n",
        "Para conseguir minimizar la media, debemos actualizar de forma iterativa los valores de $\\theta_0$ y $\\theta_1$ hasta que converjan."
      ]
    },
    {
      "cell_type": "markdown",
      "metadata": {
        "id": "AKRnsin3u9pR"
      },
      "source": [
        "![image.png](data:image/png;base64,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)\n",
        "\n",
        "El parámetro $\\alpha$, indica como de grandes serán los 'saltos' o variaciones que vamos a ir haciendo de los parámetros. Si hacemos variaciones demasiado pequeñas, el tiempo de convergencia puede ser demasiado alto, pero si hacemos variaciones demasiado grandes, puede que pasemos por alto el mínimo y nuestra función no converja nunca.\n"
      ]
    },
    {
      "cell_type": "code",
      "metadata": {
        "id": "vkb-VadbXUlm",
        "colab": {
          "base_uri": "https://localhost:8080/",
          "height": 34
        },
        "outputId": "020337cd-a877-4594-f36b-3a7e0a23a83a"
      },
      "source": [
        "# alpha is de coeficient \n",
        "alpha = 0.1\n",
        "# m is the number of training examples\n",
        "m = 4\n",
        "# We update the hypothesis function to be parameter dependent\n",
        "thetaZero = 2\n",
        "thetaOne = 2\n",
        "vectorizedFunction = np.vectorize(lambda n: thetaZero+thetaOne*n)\n",
        "# print(str((vectorizedFunction(inputVariables)*inputVariables)))\n",
        "# hypotesis = vectorizedFunction(inputVariables)\n",
        "\n",
        "converged = False\n",
        "while not converged:\n",
        "  vectorizedFunction = np.vectorize(lambda n: thetaZero+thetaOne*n)\n",
        "  \n",
        "  tempThetaZero = thetaZero\n",
        "  thetaZero = thetaZero - alpha*(1/m)*np.sum((vectorizedFunction(inputVariables)-outputVals))\n",
        "\n",
        "  tempThetaOne = thetaOne\n",
        "  thetaOne = thetaOne - alpha*(1/m)*np.sum(((vectorizedFunction(inputVariables)-outputVals)*inputVariables))\n",
        "\n",
        "  convergedOne = (tempThetaOne==thetaOne)\n",
        "  convergedZero = (tempThetaZero==thetaZero)\n",
        "  converged = convergedOne and convergedZero\n",
        "\n",
        "  if(thetaOne==0 or thetaOne<0):\n",
        "    converged = True\n",
        "  if(thetaZero==0 or thetaZero<0):\n",
        "    converged = True\n",
        "\n",
        "  # print(\"ThetaOne is now \"+ str(thetaOne))\n",
        "  # print(\"ThetaZero is now \"+ str(thetaZero))\n",
        "\n",
        "\n",
        "print(\"0: \"+str(thetaZero)+\" 1: \"+str(thetaOne))"
      ],
      "execution_count": null,
      "outputs": [
        {
          "output_type": "stream",
          "text": [
            "0: 4.699999999999987 1: 1.200000000000006\n"
          ],
          "name": "stdout"
        }
      ]
    },
    {
      "cell_type": "code",
      "metadata": {
        "id": "uNOyiC7-x_b7",
        "colab": {
          "base_uri": "https://localhost:8080/",
          "height": 51
        },
        "outputId": "e4d0175f-4f8e-40f3-b4dd-3a2c97d6767e"
      },
      "source": [
        "vectorizedFunction = np.vectorize(lambda n: thetaZero+thetaOne*n)\n",
        "hypotesis = np.trunc(vectorizedFunction(inputVariables))\n",
        "print(\"Returned hypotesis: \" + str(hypotesis))\n",
        "print(\"Expected values:    \" + str(outputVals))"
      ],
      "execution_count": null,
      "outputs": [
        {
          "output_type": "stream",
          "text": [
            "Returned hypotesis: [4. 5. 7. 8.]\n",
            "Expected values:    [4 7 7 8]\n"
          ],
          "name": "stdout"
        }
      ]
    },
    {
      "cell_type": "markdown",
      "metadata": {
        "id": "mz9QQn-c-0BQ"
      },
      "source": [
        "# Regresión con múltiples variables\n",
        "\n",
        "Una **función de hipótesis** con varias variables, se puede definir como:\n",
        "\n",
        "$h_\\theta(x) = \\theta_0 + \\theta_1 x_1+ \\theta_2 x_1+ ... + \\theta_n x_n$\n",
        "\n",
        "Para entender la función, de forma básica, podemos ver a $\\theta_0$ como, por ejemplo, el precio base de una casa. $\\theta_1$ puede ser el precio por metro cuadrado, $\\theta_2$ el precio por cada planta que tenga la casa, etc.\n",
        "Por otro lado, siguiendo el mismo ejemplo, $x_1$ sería el número de metros cuadrados de una casa en concreto, $x_2$ el número de plantas de la casa, y así sucesivamente.\n",
        "\n"
      ]
    },
    {
      "cell_type": "markdown",
      "metadata": {
        "id": "bYYCz6osA425"
      },
      "source": [
        "## Función de coste\n",
        "\n",
        "La función de coste, actualizada a N variables, quedaría de la siguiente forma, si entendemos $\\theta$ como el vector con las diferentes características:\n",
        "\n",
        "$J(\\theta) = \\frac{1}{2m}\\sum_{i=1}^m{(h_\\theta(x_i)-y_i)^2}$\n",
        "\n",
        "Al igual que en el caso de una sola variable, buscamos minimizar este coste. Esto lo haremos iterando y actualizando los valores de $\\theta_i$ hasta que converjan:\n"
      ]
    },
    {
      "cell_type": "markdown",
      "metadata": {
        "id": "A-PEa6zdCO8M"
      },
      "source": [
        "![image.png](data:image/png;base64,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)"
      ]
    },
    {
      "cell_type": "markdown",
      "metadata": {
        "id": "h9toHq_TCflv"
      },
      "source": [
        "## Normalización de las entradas\n",
        "Podemos agilizar el proceso de **descenso de gradiente**, normalizando los valores de las entradas. Esto es, conseguir que los rangos de los elementos de entrada se muevan entre unos límites controlados. Una forma de normalizar, es usando la media:\n",
        "\n",
        "![image.png](data:image/png;base64,iVBORw0KGgoAAAANSUhEUgAAAGwAAAAwCAYAAAD0Kp9BAAAFFUlEQVR4Ae2az0vjTBjH93+aUw+CICx46Gl7MSBs8PDKggHBIhjew1sWJEIJC2/wFEHCgkFY4mHpQfLCQr1k4ZUUhAhLCkIOQkEIeAgUvi+TNk1cop3015vqFEqmkyczT76fmcnk6fMO/LNUCrxbKm+5s+DAlmwQcGAc2JIpsGTu8hnGgS1QgUcf1pEEcVOAcGDCv3eh74gQNkRo19ECHUm6iuA0VyGeB0kFEDlQ10SYd2nVNKUlnmEh7EMVTji4fadJUPlAf3swNiogX9xUlzsL2+s6MjXpuZmWXGgrBMpVZrBcq6gQFU4/7Sj6qWJ1v4VeWsVcWl5ggQX1IrnlEPYBQeXYBfo+zL06jJuMaFEArzskyyzNBIZdEwKRYN2n1/pnAsjub3AefHgZm9R6fGl5gWXvre9C/X1kZ8+PK/dsKHRZHffd0kYzOq/J8FIG2TThj0720NolqJ54o5ppC68D2HBkt5IJl1El+GFA2duG3snMuMz5WRbjZTm7FEdtKIRA/Zn0EsG90ND4VEfrzc2woA2tacKLgN6F9HRkdwwYNwBCG9ZVBLosyZfzXhI96FUCabRMA7jRUSUS6EDyz1TY/1qwuhHah1XotwnEYselnWExpJUG7LAHa4eA7FiDh3g/gHVkwqcP+X6EiD7TNmXY8+Z1b0EiBMLX4YL46MPcrYAQFW7fh9FsIYwigM66qo5JF8mlBYauCWm3AfVPBa27AK0DEXJTg3JowM3CocvlgY0whldsNBexjq4UkKoI6WMNtU0R4r4Op+tA//ge7zfSJZnaxc80Cm+Cz/ICY7zZZDkMvlvwMltrxsuZzbyTKshhGy9jSJbDCM6Fjey4Yu3o1QML/2mgcWzCmuumI4D1B8H2t8wL8zMEvNM6lBMT7fGmuS28emC5dz3ryng3OPlGoog7T4BFvywocWhHgHzuo3etQ9oSIGxpcB+LNAv0vkuorEgTb1+L9fY/W3cNCGsqnJfXw5k4mQJ7sKF8cRDGuysHKqmgRn/fGhBWCNTrYv35pzUQUoPxq9h13PplBUbAgm9qGlIJbcikAq0D0N1Yfc+Al5lhrLGwKHMNem1oBzJkpq8BdwGj9WVpynl2BOyJe3HAUkH7OdGmiIU96WeKH4QQvJZvERlygeUGLIu0ym3npsAIWPBDg3ruIcIgciCcpSFM99QYvpkXi4XxJXH23IbABpAqf9kIhyGWUUwssKAk8G7ZY2F80zF7WLTF0QzzzyVIn1XIhy0Edy3IWzLUvxUoX93BzpFaF4iFvalt/XzY5LY6ApZ7Nqdy2lhYTpO8qoACBYFNHwsr4Bs3zVGgIDBg2lhYjg+8qoAChYEVaJubzkEBDiwramBDobFTmtux1YA9YUQ92+SsyxxYomjfg/5BghVDiuCdiIMsrOT8wlLlkg7zjxxYosstzb9owH6gFSHaxwrM20xsblGpcok/zxw5sESY0EZjZRCfrKyLUC5LuB5mX5wTv9/08d6FdapAWqfJM4NsJ6rHIlPlxunPZxgN4HR0CGv1OB0tFiz+B3kIbKGpcuNwZUJT401frwWNe65+GqbG0dvsaKjRTCtaXmSqHIPEfIZRkR49GPsSGk0N2pGM+pEFP/vn64JS5Rh4pcFfFuO3arOoVDkWffkMY1BpMalyDI7wXSKbSGWy4jOsTDQYfOHAGEQqkwkHViYaDL5wYAwilcmEAysTDQZfODAGkcpkwoGViQaDLxwYg0hlMvkPGVnVLji0QvsAAAAASUVORK5CYII=)\n",
        "\n",
        "Donde $\\mu_i$ es la media de todos los valores para la característica i y $s_i$ es el rango de valores (max-min) o, en su defecto, la desviación estándar."
      ]
    },
    {
      "cell_type": "markdown",
      "metadata": {
        "id": "euQ5sOetED4z"
      },
      "source": [
        "# Ejemplo con TensorFlow\n",
        "\n"
      ]
    },
    {
      "cell_type": "code",
      "metadata": {
        "id": "HCrN6jDdEG17",
        "colab": {
          "base_uri": "https://localhost:8080/",
          "height": 224
        },
        "outputId": "89f936ef-e880-4abd-b4ef-0066b19b6857"
      },
      "source": [
        "# Use seaborn for pairplot\n",
        "!pip install seaborn"
      ],
      "execution_count": null,
      "outputs": [
        {
          "output_type": "stream",
          "text": [
            "Requirement already satisfied: seaborn in /usr/local/lib/python3.6/dist-packages (0.10.1)\n",
            "Requirement already satisfied: pandas>=0.22.0 in /usr/local/lib/python3.6/dist-packages (from seaborn) (1.0.4)\n",
            "Requirement already satisfied: matplotlib>=2.1.2 in /usr/local/lib/python3.6/dist-packages (from seaborn) (3.2.1)\n",
            "Requirement already satisfied: numpy>=1.13.3 in /usr/local/lib/python3.6/dist-packages (from seaborn) (1.18.4)\n",
            "Requirement already satisfied: scipy>=1.0.1 in /usr/local/lib/python3.6/dist-packages (from seaborn) (1.4.1)\n",
            "Requirement already satisfied: pytz>=2017.2 in /usr/local/lib/python3.6/dist-packages (from pandas>=0.22.0->seaborn) (2018.9)\n",
            "Requirement already satisfied: python-dateutil>=2.6.1 in /usr/local/lib/python3.6/dist-packages (from pandas>=0.22.0->seaborn) (2.8.1)\n",
            "Requirement already satisfied: cycler>=0.10 in /usr/local/lib/python3.6/dist-packages (from matplotlib>=2.1.2->seaborn) (0.10.0)\n",
            "Requirement already satisfied: kiwisolver>=1.0.1 in /usr/local/lib/python3.6/dist-packages (from matplotlib>=2.1.2->seaborn) (1.2.0)\n",
            "Requirement already satisfied: pyparsing!=2.0.4,!=2.1.2,!=2.1.6,>=2.0.1 in /usr/local/lib/python3.6/dist-packages (from matplotlib>=2.1.2->seaborn) (2.4.7)\n",
            "Requirement already satisfied: six>=1.5 in /usr/local/lib/python3.6/dist-packages (from python-dateutil>=2.6.1->pandas>=0.22.0->seaborn) (1.12.0)\n"
          ],
          "name": "stdout"
        }
      ]
    },
    {
      "cell_type": "markdown",
      "metadata": {
        "id": "kDRJP91KY2bg"
      },
      "source": [
        "\n",
        "\n",
        "> El ejemplo lo vamos a hacer utilizando el API de keras, de mayor alto nivel, permitiendo implementar un modelo más fácilmente.\n",
        "\n"
      ]
    },
    {
      "cell_type": "code",
      "metadata": {
        "id": "eJtYB1dBYuaP",
        "colab": {
          "base_uri": "https://localhost:8080/",
          "height": 34
        },
        "outputId": "90be5c72-7abf-42aa-8444-69cd0fccafba"
      },
      "source": [
        "import pathlib\n",
        "\n",
        "import matplotlib.pyplot as plt\n",
        "import pandas as pd\n",
        "import seaborn as sns\n",
        "\n",
        "import tensorflow as tf\n",
        "\n",
        "from tensorflow import keras\n",
        "from tensorflow.keras import layers\n",
        "\n",
        "print(tf.__version__)"
      ],
      "execution_count": null,
      "outputs": [
        {
          "output_type": "stream",
          "text": [
            "2.2.0\n"
          ],
          "name": "stdout"
        }
      ]
    },
    {
      "cell_type": "markdown",
      "metadata": {
        "id": "P1VSU7Eoisfj"
      },
      "source": [
        "## Descarga y procesado de los datos"
      ]
    },
    {
      "cell_type": "markdown",
      "metadata": {
        "id": "zRxAp85vZUgl"
      },
      "source": [
        "Descargamos el dataset con el que vamos a entrenar"
      ]
    },
    {
      "cell_type": "code",
      "metadata": {
        "id": "5YMy-FLQYzb8",
        "colab": {
          "base_uri": "https://localhost:8080/",
          "height": 34
        },
        "outputId": "0923003e-3c74-4061-9048-c43e58870fd5"
      },
      "source": [
        "dataset_path = keras.utils.get_file(\"auto-mpg.data\", \"http://archive.ics.uci.edu/ml/machine-learning-databases/auto-mpg/auto-mpg.data\")\n",
        "dataset_path"
      ],
      "execution_count": null,
      "outputs": [
        {
          "output_type": "execute_result",
          "data": {
            "text/plain": [
              "'/root/.keras/datasets/auto-mpg.data'"
            ]
          },
          "metadata": {
            "tags": []
          },
          "execution_count": 15
        }
      ]
    },
    {
      "cell_type": "markdown",
      "metadata": {
        "id": "pnEzNwK2ZbZh"
      },
      "source": [
        "Pandas, es una librería que nos permite trabajar con csv's y conjuntos de datos como si fueran tablas. Esto nos permite hacer consultas sobre los datasets, y quitar información para luego plantear las características."
      ]
    },
    {
      "cell_type": "code",
      "metadata": {
        "id": "ND6n6wrlZXlO",
        "colab": {
          "base_uri": "https://localhost:8080/",
          "height": 204
        },
        "outputId": "0c9f352e-6a8c-4e42-9564-9b16047d3707"
      },
      "source": [
        "column_names = ['MPG','Cylinders','Displacement','Horsepower','Weight',\n",
        "                'Acceleration', 'Model Year', 'Origin']\n",
        "raw_dataset = pd.read_csv(dataset_path, names=column_names,\n",
        "                      na_values = \"?\", comment='\\t',\n",
        "                      sep=\" \", skipinitialspace=True)\n",
        "\n",
        "dataset = raw_dataset.copy()\n",
        "dataset.tail()"
      ],
      "execution_count": null,
      "outputs": [
        {
          "output_type": "execute_result",
          "data": {
            "text/html": [
              "<div>\n",
              "<style scoped>\n",
              "    .dataframe tbody tr th:only-of-type {\n",
              "        vertical-align: middle;\n",
              "    }\n",
              "\n",
              "    .dataframe tbody tr th {\n",
              "        vertical-align: top;\n",
              "    }\n",
              "\n",
              "    .dataframe thead th {\n",
              "        text-align: right;\n",
              "    }\n",
              "</style>\n",
              "<table border=\"1\" class=\"dataframe\">\n",
              "  <thead>\n",
              "    <tr style=\"text-align: right;\">\n",
              "      <th></th>\n",
              "      <th>MPG</th>\n",
              "      <th>Cylinders</th>\n",
              "      <th>Displacement</th>\n",
              "      <th>Horsepower</th>\n",
              "      <th>Weight</th>\n",
              "      <th>Acceleration</th>\n",
              "      <th>Model Year</th>\n",
              "      <th>Origin</th>\n",
              "    </tr>\n",
              "  </thead>\n",
              "  <tbody>\n",
              "    <tr>\n",
              "      <th>393</th>\n",
              "      <td>27.0</td>\n",
              "      <td>4</td>\n",
              "      <td>140.0</td>\n",
              "      <td>86.0</td>\n",
              "      <td>2790.0</td>\n",
              "      <td>15.6</td>\n",
              "      <td>82</td>\n",
              "      <td>1</td>\n",
              "    </tr>\n",
              "    <tr>\n",
              "      <th>394</th>\n",
              "      <td>44.0</td>\n",
              "      <td>4</td>\n",
              "      <td>97.0</td>\n",
              "      <td>52.0</td>\n",
              "      <td>2130.0</td>\n",
              "      <td>24.6</td>\n",
              "      <td>82</td>\n",
              "      <td>2</td>\n",
              "    </tr>\n",
              "    <tr>\n",
              "      <th>395</th>\n",
              "      <td>32.0</td>\n",
              "      <td>4</td>\n",
              "      <td>135.0</td>\n",
              "      <td>84.0</td>\n",
              "      <td>2295.0</td>\n",
              "      <td>11.6</td>\n",
              "      <td>82</td>\n",
              "      <td>1</td>\n",
              "    </tr>\n",
              "    <tr>\n",
              "      <th>396</th>\n",
              "      <td>28.0</td>\n",
              "      <td>4</td>\n",
              "      <td>120.0</td>\n",
              "      <td>79.0</td>\n",
              "      <td>2625.0</td>\n",
              "      <td>18.6</td>\n",
              "      <td>82</td>\n",
              "      <td>1</td>\n",
              "    </tr>\n",
              "    <tr>\n",
              "      <th>397</th>\n",
              "      <td>31.0</td>\n",
              "      <td>4</td>\n",
              "      <td>119.0</td>\n",
              "      <td>82.0</td>\n",
              "      <td>2720.0</td>\n",
              "      <td>19.4</td>\n",
              "      <td>82</td>\n",
              "      <td>1</td>\n",
              "    </tr>\n",
              "  </tbody>\n",
              "</table>\n",
              "</div>"
            ],
            "text/plain": [
              "      MPG  Cylinders  Displacement  ...  Acceleration  Model Year  Origin\n",
              "393  27.0          4         140.0  ...          15.6          82       1\n",
              "394  44.0          4          97.0  ...          24.6          82       2\n",
              "395  32.0          4         135.0  ...          11.6          82       1\n",
              "396  28.0          4         120.0  ...          18.6          82       1\n",
              "397  31.0          4         119.0  ...          19.4          82       1\n",
              "\n",
              "[5 rows x 8 columns]"
            ]
          },
          "metadata": {
            "tags": []
          },
          "execution_count": 16
        }
      ]
    },
    {
      "cell_type": "markdown",
      "metadata": {
        "id": "x9DAXIrEZtCy"
      },
      "source": [
        "El dataset escogido, posee información sobre modelos de coches"
      ]
    },
    {
      "cell_type": "code",
      "metadata": {
        "id": "zvhdhaE-Zqgv",
        "colab": {
          "base_uri": "https://localhost:8080/",
          "height": 170
        },
        "outputId": "c2429bf9-4ec3-49b0-efc3-1ef1a204010b"
      },
      "source": [
        "dataset.isna().sum() # Esto revisa si hay valores nulos NaN y demás"
      ],
      "execution_count": null,
      "outputs": [
        {
          "output_type": "execute_result",
          "data": {
            "text/plain": [
              "MPG             0\n",
              "Cylinders       0\n",
              "Displacement    0\n",
              "Horsepower      6\n",
              "Weight          0\n",
              "Acceleration    0\n",
              "Model Year      0\n",
              "Origin          0\n",
              "dtype: int64"
            ]
          },
          "metadata": {
            "tags": []
          },
          "execution_count": 17
        }
      ]
    },
    {
      "cell_type": "code",
      "metadata": {
        "id": "8nAVPyTEac8H"
      },
      "source": [
        "dataset = dataset.dropna() # Podemos eliminar esos datos corruptos o que no nos interesan"
      ],
      "execution_count": null,
      "outputs": []
    },
    {
      "cell_type": "code",
      "metadata": {
        "id": "UEa6dAzyalbc",
        "colab": {
          "base_uri": "https://localhost:8080/",
          "height": 204
        },
        "outputId": "7a86968d-d7ea-40f2-f03c-a9e94b114a0a"
      },
      "source": [
        "origin = dataset.pop('Origin')\n",
        "dataset['USA'] = (origin == 1)*1.0\n",
        "dataset['Europe'] = (origin == 2)*1.0\n",
        "dataset['Japan'] = (origin == 3)*1.0\n",
        "dataset.tail()"
      ],
      "execution_count": null,
      "outputs": [
        {
          "output_type": "execute_result",
          "data": {
            "text/html": [
              "<div>\n",
              "<style scoped>\n",
              "    .dataframe tbody tr th:only-of-type {\n",
              "        vertical-align: middle;\n",
              "    }\n",
              "\n",
              "    .dataframe tbody tr th {\n",
              "        vertical-align: top;\n",
              "    }\n",
              "\n",
              "    .dataframe thead th {\n",
              "        text-align: right;\n",
              "    }\n",
              "</style>\n",
              "<table border=\"1\" class=\"dataframe\">\n",
              "  <thead>\n",
              "    <tr style=\"text-align: right;\">\n",
              "      <th></th>\n",
              "      <th>MPG</th>\n",
              "      <th>Cylinders</th>\n",
              "      <th>Displacement</th>\n",
              "      <th>Horsepower</th>\n",
              "      <th>Weight</th>\n",
              "      <th>Acceleration</th>\n",
              "      <th>Model Year</th>\n",
              "      <th>USA</th>\n",
              "      <th>Europe</th>\n",
              "      <th>Japan</th>\n",
              "    </tr>\n",
              "  </thead>\n",
              "  <tbody>\n",
              "    <tr>\n",
              "      <th>393</th>\n",
              "      <td>27.0</td>\n",
              "      <td>4</td>\n",
              "      <td>140.0</td>\n",
              "      <td>86.0</td>\n",
              "      <td>2790.0</td>\n",
              "      <td>15.6</td>\n",
              "      <td>82</td>\n",
              "      <td>1.0</td>\n",
              "      <td>0.0</td>\n",
              "      <td>0.0</td>\n",
              "    </tr>\n",
              "    <tr>\n",
              "      <th>394</th>\n",
              "      <td>44.0</td>\n",
              "      <td>4</td>\n",
              "      <td>97.0</td>\n",
              "      <td>52.0</td>\n",
              "      <td>2130.0</td>\n",
              "      <td>24.6</td>\n",
              "      <td>82</td>\n",
              "      <td>0.0</td>\n",
              "      <td>1.0</td>\n",
              "      <td>0.0</td>\n",
              "    </tr>\n",
              "    <tr>\n",
              "      <th>395</th>\n",
              "      <td>32.0</td>\n",
              "      <td>4</td>\n",
              "      <td>135.0</td>\n",
              "      <td>84.0</td>\n",
              "      <td>2295.0</td>\n",
              "      <td>11.6</td>\n",
              "      <td>82</td>\n",
              "      <td>1.0</td>\n",
              "      <td>0.0</td>\n",
              "      <td>0.0</td>\n",
              "    </tr>\n",
              "    <tr>\n",
              "      <th>396</th>\n",
              "      <td>28.0</td>\n",
              "      <td>4</td>\n",
              "      <td>120.0</td>\n",
              "      <td>79.0</td>\n",
              "      <td>2625.0</td>\n",
              "      <td>18.6</td>\n",
              "      <td>82</td>\n",
              "      <td>1.0</td>\n",
              "      <td>0.0</td>\n",
              "      <td>0.0</td>\n",
              "    </tr>\n",
              "    <tr>\n",
              "      <th>397</th>\n",
              "      <td>31.0</td>\n",
              "      <td>4</td>\n",
              "      <td>119.0</td>\n",
              "      <td>82.0</td>\n",
              "      <td>2720.0</td>\n",
              "      <td>19.4</td>\n",
              "      <td>82</td>\n",
              "      <td>1.0</td>\n",
              "      <td>0.0</td>\n",
              "      <td>0.0</td>\n",
              "    </tr>\n",
              "  </tbody>\n",
              "</table>\n",
              "</div>"
            ],
            "text/plain": [
              "      MPG  Cylinders  Displacement  Horsepower  ...  Model Year  USA  Europe  Japan\n",
              "393  27.0          4         140.0        86.0  ...          82  1.0     0.0    0.0\n",
              "394  44.0          4          97.0        52.0  ...          82  0.0     1.0    0.0\n",
              "395  32.0          4         135.0        84.0  ...          82  1.0     0.0    0.0\n",
              "396  28.0          4         120.0        79.0  ...          82  1.0     0.0    0.0\n",
              "397  31.0          4         119.0        82.0  ...          82  1.0     0.0    0.0\n",
              "\n",
              "[5 rows x 10 columns]"
            ]
          },
          "metadata": {
            "tags": []
          },
          "execution_count": 21
        }
      ]
    },
    {
      "cell_type": "markdown",
      "metadata": {
        "id": "YoscbBn2gha1"
      },
      "source": [
        "Ahora divida el set de datos en un set de entrenamiento y otro de pruebas.\n",
        "Usaremos el set de pruebas en la evaluacion final de nuestro modelo."
      ]
    },
    {
      "cell_type": "code",
      "metadata": {
        "id": "_I4CfvODgciE"
      },
      "source": [
        "train_dataset = dataset.sample(frac=0.8,random_state=0)\n",
        "test_dataset = dataset.drop(train_dataset.index)"
      ],
      "execution_count": null,
      "outputs": []
    },
    {
      "cell_type": "markdown",
      "metadata": {
        "id": "TWqnhbwgh1qT"
      },
      "source": [
        "Revise rapidamente la distribucion conjunta de un par de columnas de el set de entrenamiento."
      ]
    },
    {
      "cell_type": "code",
      "metadata": {
        "id": "vnSbrzVXhwlq",
        "colab": {
          "base_uri": "https://localhost:8080/",
          "height": 764
        },
        "outputId": "463bbeef-2cc5-40ec-b0a5-13c68cc54ef3"
      },
      "source": [
        "sns.pairplot(train_dataset[[\"MPG\", \"Cylinders\", \"Displacement\", \"Weight\"]], diag_kind=\"kde\")"
      ],
      "execution_count": null,
      "outputs": [
        {
          "output_type": "execute_result",
          "data": {
            "text/plain": [
              "<seaborn.axisgrid.PairGrid at 0x7f7d32c6b9b0>"
            ]
          },
          "metadata": {
            "tags": []
          },
          "execution_count": 24
        },
        {
          "output_type": "display_data",
          "data": {
            "image/png": "[encoded data removed]",
            "text/plain": [
              "<Figure size 720x720 with 20 Axes>"
            ]
          },
          "metadata": {
            "tags": [],
            "needs_background": "light"
          }
        }
      ]
    },
    {
      "cell_type": "markdown",
      "metadata": {
        "id": "d91KDtH2h8Kw"
      },
      "source": [
        "Estadísticas generales del conjunto:"
      ]
    },
    {
      "cell_type": "code",
      "metadata": {
        "id": "Ogfh7_eeiImz",
        "colab": {
          "base_uri": "https://localhost:8080/",
          "height": 328
        },
        "outputId": "bb07053b-99fd-48dd-b20a-9044048420aa"
      },
      "source": [
        "train_stats = train_dataset.describe()\n",
        "train_stats.pop(\"MPG\")\n",
        "train_stats = train_stats.transpose()\n",
        "train_stats"
      ],
      "execution_count": null,
      "outputs": [
        {
          "output_type": "execute_result",
          "data": {
            "text/html": [
              "<div>\n",
              "<style scoped>\n",
              "    .dataframe tbody tr th:only-of-type {\n",
              "        vertical-align: middle;\n",
              "    }\n",
              "\n",
              "    .dataframe tbody tr th {\n",
              "        vertical-align: top;\n",
              "    }\n",
              "\n",
              "    .dataframe thead th {\n",
              "        text-align: right;\n",
              "    }\n",
              "</style>\n",
              "<table border=\"1\" class=\"dataframe\">\n",
              "  <thead>\n",
              "    <tr style=\"text-align: right;\">\n",
              "      <th></th>\n",
              "      <th>count</th>\n",
              "      <th>mean</th>\n",
              "      <th>std</th>\n",
              "      <th>min</th>\n",
              "      <th>25%</th>\n",
              "      <th>50%</th>\n",
              "      <th>75%</th>\n",
              "      <th>max</th>\n",
              "    </tr>\n",
              "  </thead>\n",
              "  <tbody>\n",
              "    <tr>\n",
              "      <th>Cylinders</th>\n",
              "      <td>314.0</td>\n",
              "      <td>5.477707</td>\n",
              "      <td>1.699788</td>\n",
              "      <td>3.0</td>\n",
              "      <td>4.00</td>\n",
              "      <td>4.0</td>\n",
              "      <td>8.00</td>\n",
              "      <td>8.0</td>\n",
              "    </tr>\n",
              "    <tr>\n",
              "      <th>Displacement</th>\n",
              "      <td>314.0</td>\n",
              "      <td>195.318471</td>\n",
              "      <td>104.331589</td>\n",
              "      <td>68.0</td>\n",
              "      <td>105.50</td>\n",
              "      <td>151.0</td>\n",
              "      <td>265.75</td>\n",
              "      <td>455.0</td>\n",
              "    </tr>\n",
              "    <tr>\n",
              "      <th>Horsepower</th>\n",
              "      <td>314.0</td>\n",
              "      <td>104.869427</td>\n",
              "      <td>38.096214</td>\n",
              "      <td>46.0</td>\n",
              "      <td>76.25</td>\n",
              "      <td>94.5</td>\n",
              "      <td>128.00</td>\n",
              "      <td>225.0</td>\n",
              "    </tr>\n",
              "    <tr>\n",
              "      <th>Weight</th>\n",
              "      <td>314.0</td>\n",
              "      <td>2990.251592</td>\n",
              "      <td>843.898596</td>\n",
              "      <td>1649.0</td>\n",
              "      <td>2256.50</td>\n",
              "      <td>2822.5</td>\n",
              "      <td>3608.00</td>\n",
              "      <td>5140.0</td>\n",
              "    </tr>\n",
              "    <tr>\n",
              "      <th>Acceleration</th>\n",
              "      <td>314.0</td>\n",
              "      <td>15.559236</td>\n",
              "      <td>2.789230</td>\n",
              "      <td>8.0</td>\n",
              "      <td>13.80</td>\n",
              "      <td>15.5</td>\n",
              "      <td>17.20</td>\n",
              "      <td>24.8</td>\n",
              "    </tr>\n",
              "    <tr>\n",
              "      <th>Model Year</th>\n",
              "      <td>314.0</td>\n",
              "      <td>75.898089</td>\n",
              "      <td>3.675642</td>\n",
              "      <td>70.0</td>\n",
              "      <td>73.00</td>\n",
              "      <td>76.0</td>\n",
              "      <td>79.00</td>\n",
              "      <td>82.0</td>\n",
              "    </tr>\n",
              "    <tr>\n",
              "      <th>USA</th>\n",
              "      <td>314.0</td>\n",
              "      <td>0.624204</td>\n",
              "      <td>0.485101</td>\n",
              "      <td>0.0</td>\n",
              "      <td>0.00</td>\n",
              "      <td>1.0</td>\n",
              "      <td>1.00</td>\n",
              "      <td>1.0</td>\n",
              "    </tr>\n",
              "    <tr>\n",
              "      <th>Europe</th>\n",
              "      <td>314.0</td>\n",
              "      <td>0.178344</td>\n",
              "      <td>0.383413</td>\n",
              "      <td>0.0</td>\n",
              "      <td>0.00</td>\n",
              "      <td>0.0</td>\n",
              "      <td>0.00</td>\n",
              "      <td>1.0</td>\n",
              "    </tr>\n",
              "    <tr>\n",
              "      <th>Japan</th>\n",
              "      <td>314.0</td>\n",
              "      <td>0.197452</td>\n",
              "      <td>0.398712</td>\n",
              "      <td>0.0</td>\n",
              "      <td>0.00</td>\n",
              "      <td>0.0</td>\n",
              "      <td>0.00</td>\n",
              "      <td>1.0</td>\n",
              "    </tr>\n",
              "  </tbody>\n",
              "</table>\n",
              "</div>"
            ],
            "text/plain": [
              "              count         mean         std  ...     50%      75%     max\n",
              "Cylinders     314.0     5.477707    1.699788  ...     4.0     8.00     8.0\n",
              "Displacement  314.0   195.318471  104.331589  ...   151.0   265.75   455.0\n",
              "Horsepower    314.0   104.869427   38.096214  ...    94.5   128.00   225.0\n",
              "Weight        314.0  2990.251592  843.898596  ...  2822.5  3608.00  5140.0\n",
              "Acceleration  314.0    15.559236    2.789230  ...    15.5    17.20    24.8\n",
              "Model Year    314.0    75.898089    3.675642  ...    76.0    79.00    82.0\n",
              "USA           314.0     0.624204    0.485101  ...     1.0     1.00     1.0\n",
              "Europe        314.0     0.178344    0.383413  ...     0.0     0.00     1.0\n",
              "Japan         314.0     0.197452    0.398712  ...     0.0     0.00     1.0\n",
              "\n",
              "[9 rows x 8 columns]"
            ]
          },
          "metadata": {
            "tags": []
          },
          "execution_count": 26
        }
      ]
    },
    {
      "cell_type": "code",
      "metadata": {
        "id": "a5uzO6sCjmwf"
      },
      "source": [
        "train_labels = train_dataset.pop('MPG')\n",
        "test_labels = test_dataset.pop('MPG')"
      ],
      "execution_count": null,
      "outputs": []
    },
    {
      "cell_type": "markdown",
      "metadata": {
        "id": "i86duuoFiXvL"
      },
      "source": [
        "Es una buena práctica normalizar funciones que utilizan diferentes escalas y rangos. Aunque el modelo * podría * converger sin normalización de características, dificulta el entrenamiento y hace que el modelo resultante dependa de la elección de las unidades utilizadas en la entrada."
      ]
    },
    {
      "cell_type": "code",
      "metadata": {
        "id": "8a4IJ7PtiWsD"
      },
      "source": [
        "def norm(x):\n",
        "  return (x - train_stats['mean']) / train_stats['std']\n",
        "normed_train_data = norm(train_dataset)\n",
        "normed_test_data = norm(test_dataset)"
      ],
      "execution_count": null,
      "outputs": []
    },
    {
      "cell_type": "markdown",
      "metadata": {
        "id": "ouFLAfoIiiKO"
      },
      "source": [
        "Estos datos normalizados es lo que usaremos para entrenar el modelo."
      ]
    },
    {
      "cell_type": "markdown",
      "metadata": {
        "id": "0Rk-aumUilqX"
      },
      "source": [
        "## Construcción del modelo"
      ]
    },
    {
      "cell_type": "markdown",
      "metadata": {
        "id": "G6tvvOtJi25y"
      },
      "source": [
        "Construyamos nuestro modelo. Aquí, utilizaremos un modelo secuencial con dos capas ocultas densamente conectadas y una capa de salida que devuelve un único valor continuo. Los pasos de construcción del modelo se envuelven en una función, build_model, ya que crearemos un segundo modelo, más adelante."
      ]
    },
    {
      "cell_type": "code",
      "metadata": {
        "id": "z7d1NOK2iipo"
      },
      "source": [
        "def build_model():\n",
        "  model = keras.Sequential([\n",
        "    layers.Dense(64, activation='relu', input_shape=[len(train_dataset.keys())]),\n",
        "    layers.Dense(64, activation='relu'),\n",
        "    layers.Dense(1)\n",
        "  ])\n",
        "\n",
        "  optimizer = tf.keras.optimizers.RMSprop(0.001)\n",
        "\n",
        "  model.compile(loss='mse',\n",
        "                optimizer=optimizer,\n",
        "                metrics=['mae', 'mse'])\n",
        "  return model"
      ],
      "execution_count": null,
      "outputs": []
    },
    {
      "cell_type": "code",
      "metadata": {
        "id": "_1m88gjgi8Li"
      },
      "source": [
        "model = build_model()"
      ],
      "execution_count": null,
      "outputs": []
    },
    {
      "cell_type": "markdown",
      "metadata": {
        "id": "tdGAv5Z_jLzp"
      },
      "source": [
        "Use el método `.summary` para imprimir una descripción simple del modelo"
      ]
    },
    {
      "cell_type": "code",
      "metadata": {
        "id": "2qpTvGjci8xH",
        "colab": {
          "base_uri": "https://localhost:8080/",
          "height": 255
        },
        "outputId": "1f84146a-721d-44da-c499-44efa0646c97"
      },
      "source": [
        "model.summary()"
      ],
      "execution_count": null,
      "outputs": [
        {
          "output_type": "stream",
          "text": [
            "Model: \"sequential_1\"\n",
            "_________________________________________________________________\n",
            "Layer (type)                 Output Shape              Param #   \n",
            "=================================================================\n",
            "dense_3 (Dense)              (None, 64)                640       \n",
            "_________________________________________________________________\n",
            "dense_4 (Dense)              (None, 64)                4160      \n",
            "_________________________________________________________________\n",
            "dense_5 (Dense)              (None, 1)                 65        \n",
            "=================================================================\n",
            "Total params: 4,865\n",
            "Trainable params: 4,865\n",
            "Non-trainable params: 0\n",
            "_________________________________________________________________\n"
          ],
          "name": "stdout"
        }
      ]
    },
    {
      "cell_type": "code",
      "metadata": {
        "id": "KAyT3Uj5jUBk",
        "colab": {
          "base_uri": "https://localhost:8080/",
          "height": 187
        },
        "outputId": "ee82c888-fbad-4816-ff71-b69c11a16cf8"
      },
      "source": [
        "example_batch = normed_train_data[:10]\n",
        "example_result = model.predict(example_batch)\n",
        "example_result"
      ],
      "execution_count": null,
      "outputs": [
        {
          "output_type": "execute_result",
          "data": {
            "text/plain": [
              "array([[ 0.0275721 ],\n",
              "       [ 0.02597286],\n",
              "       [-0.5240284 ],\n",
              "       [-0.04721133],\n",
              "       [-0.11326563],\n",
              "       [-0.1523954 ],\n",
              "       [-0.14841121],\n",
              "       [-0.28880438],\n",
              "       [-0.13017386],\n",
              "       [-0.2412657 ]], dtype=float32)"
            ]
          },
          "metadata": {
            "tags": []
          },
          "execution_count": 39
        }
      ]
    },
    {
      "cell_type": "markdown",
      "metadata": {
        "id": "Qkbo38uCjz5f"
      },
      "source": [
        "## Entrenamiento del modelo"
      ]
    },
    {
      "cell_type": "markdown",
      "metadata": {
        "id": "r9EfmzEokI6I"
      },
      "source": [
        "Entrene el modelo durante 1000 iteraciones y registre la precisión de entrenamiento y validación en el objeto history."
      ]
    },
    {
      "cell_type": "code",
      "metadata": {
        "id": "z2pytEgXj1da",
        "colab": {
          "base_uri": "https://localhost:8080/",
          "height": 204
        },
        "outputId": "9488bcfb-74f5-44c5-a27b-869fa6f17c6b"
      },
      "source": [
        "# Display training progress by printing a single dot for each completed epoch\n",
        "class PrintDot(keras.callbacks.Callback):\n",
        "  def on_epoch_end(self, epoch, logs):\n",
        "    if epoch % 100 == 0: print('')\n",
        "    print('.', end='')\n",
        "\n",
        "EPOCHS = 1000\n",
        "\n",
        "history = model.fit(\n",
        "  normed_train_data, train_labels,\n",
        "  epochs=EPOCHS, validation_split = 0.2, verbose=0,\n",
        "  callbacks=[PrintDot()])"
      ],
      "execution_count": null,
      "outputs": [
        {
          "output_type": "stream",
          "text": [
            "\n",
            "....................................................................................................\n",
            "....................................................................................................\n",
            "....................................................................................................\n",
            "....................................................................................................\n",
            "....................................................................................................\n",
            "....................................................................................................\n",
            "....................................................................................................\n",
            "....................................................................................................\n",
            "....................................................................................................\n",
            "...................................................................................................."
          ],
          "name": "stdout"
        }
      ]
    },
    {
      "cell_type": "markdown",
      "metadata": {
        "id": "bxWDyyTwkUOx"
      },
      "source": [
        "Visualice el progreso de entrenamiento del modelo usando las estadísticas almacenadas en el objeto `history`."
      ]
    },
    {
      "cell_type": "code",
      "metadata": {
        "id": "DY18RYHrkHUZ",
        "colab": {
          "base_uri": "https://localhost:8080/",
          "height": 204
        },
        "outputId": "07a3312f-15b7-49d6-d8e7-00cb0789e49e"
      },
      "source": [
        "hist = pd.DataFrame(history.history)\n",
        "hist['epoch'] = history.epoch\n",
        "hist.tail()"
      ],
      "execution_count": null,
      "outputs": [
        {
          "output_type": "execute_result",
          "data": {
            "text/html": [
              "<div>\n",
              "<style scoped>\n",
              "    .dataframe tbody tr th:only-of-type {\n",
              "        vertical-align: middle;\n",
              "    }\n",
              "\n",
              "    .dataframe tbody tr th {\n",
              "        vertical-align: top;\n",
              "    }\n",
              "\n",
              "    .dataframe thead th {\n",
              "        text-align: right;\n",
              "    }\n",
              "</style>\n",
              "<table border=\"1\" class=\"dataframe\">\n",
              "  <thead>\n",
              "    <tr style=\"text-align: right;\">\n",
              "      <th></th>\n",
              "      <th>loss</th>\n",
              "      <th>mae</th>\n",
              "      <th>mse</th>\n",
              "      <th>val_loss</th>\n",
              "      <th>val_mae</th>\n",
              "      <th>val_mse</th>\n",
              "      <th>epoch</th>\n",
              "    </tr>\n",
              "  </thead>\n",
              "  <tbody>\n",
              "    <tr>\n",
              "      <th>995</th>\n",
              "      <td>2.460675</td>\n",
              "      <td>0.961629</td>\n",
              "      <td>2.460675</td>\n",
              "      <td>9.197188</td>\n",
              "      <td>2.318405</td>\n",
              "      <td>9.197188</td>\n",
              "      <td>995</td>\n",
              "    </tr>\n",
              "    <tr>\n",
              "      <th>996</th>\n",
              "      <td>2.365460</td>\n",
              "      <td>0.965010</td>\n",
              "      <td>2.365460</td>\n",
              "      <td>9.209907</td>\n",
              "      <td>2.382621</td>\n",
              "      <td>9.209907</td>\n",
              "      <td>996</td>\n",
              "    </tr>\n",
              "    <tr>\n",
              "      <th>997</th>\n",
              "      <td>2.355825</td>\n",
              "      <td>1.020677</td>\n",
              "      <td>2.355825</td>\n",
              "      <td>9.156713</td>\n",
              "      <td>2.360347</td>\n",
              "      <td>9.156713</td>\n",
              "      <td>997</td>\n",
              "    </tr>\n",
              "    <tr>\n",
              "      <th>998</th>\n",
              "      <td>2.447334</td>\n",
              "      <td>1.029764</td>\n",
              "      <td>2.447334</td>\n",
              "      <td>8.733151</td>\n",
              "      <td>2.231837</td>\n",
              "      <td>8.733151</td>\n",
              "      <td>998</td>\n",
              "    </tr>\n",
              "    <tr>\n",
              "      <th>999</th>\n",
              "      <td>2.441247</td>\n",
              "      <td>1.018616</td>\n",
              "      <td>2.441247</td>\n",
              "      <td>8.990903</td>\n",
              "      <td>2.347669</td>\n",
              "      <td>8.990903</td>\n",
              "      <td>999</td>\n",
              "    </tr>\n",
              "  </tbody>\n",
              "</table>\n",
              "</div>"
            ],
            "text/plain": [
              "         loss       mae       mse  val_loss   val_mae   val_mse  epoch\n",
              "995  2.460675  0.961629  2.460675  9.197188  2.318405  9.197188    995\n",
              "996  2.365460  0.965010  2.365460  9.209907  2.382621  9.209907    996\n",
              "997  2.355825  1.020677  2.355825  9.156713  2.360347  9.156713    997\n",
              "998  2.447334  1.029764  2.447334  8.733151  2.231837  8.733151    998\n",
              "999  2.441247  1.018616  2.441247  8.990903  2.347669  8.990903    999"
            ]
          },
          "metadata": {
            "tags": []
          },
          "execution_count": 41
        }
      ]
    },
    {
      "cell_type": "code",
      "metadata": {
        "id": "0agJvmwkkb-_",
        "colab": {
          "base_uri": "https://localhost:8080/",
          "height": 549
        },
        "outputId": "5164794e-7521-4e74-ebd9-c006eb835517"
      },
      "source": [
        "def plot_history(history):\n",
        "  hist = pd.DataFrame(history.history)\n",
        "  hist['epoch'] = history.epoch\n",
        "\n",
        "  plt.figure()\n",
        "  plt.xlabel('Epoch')\n",
        "  plt.ylabel('Mean Abs Error [MPG]')\n",
        "  plt.plot(hist['epoch'], hist['mae'],\n",
        "           label='Train Error')\n",
        "  plt.plot(hist['epoch'], hist['val_mae'],\n",
        "           label = 'Val Error')\n",
        "  plt.ylim([0,5])\n",
        "  plt.legend()\n",
        "\n",
        "  plt.figure()\n",
        "  plt.xlabel('Epoch')\n",
        "  plt.ylabel('Mean Square Error [$MPG^2$]')\n",
        "  plt.plot(hist['epoch'], hist['mse'],\n",
        "           label='Train Error')\n",
        "  plt.plot(hist['epoch'], hist['val_mse'],\n",
        "           label = 'Val Error')\n",
        "  plt.ylim([0,20])\n",
        "  plt.legend()\n",
        "  plt.show()\n",
        "\n",
        "\n",
        "plot_history(history)"
      ],
      "execution_count": null,
      "outputs": [
        {
          "output_type": "display_data",
          "data": {
            "image/png": "[encoded data removed]",
            "text/plain": [
              "<Figure size 432x288 with 1 Axes>"
            ]
          },
          "metadata": {
            "tags": [],
            "needs_background": "light"
          }
        },
        {
          "output_type": "display_data",
          "data": {
            "image/png": "[encoded data removed]",
            "text/plain": [
              "<Figure size 432x288 with 1 Axes>"
            ]
          },
          "metadata": {
            "tags": [],
            "needs_background": "light"
          }
        }
      ]
    },
    {
      "cell_type": "markdown",
      "metadata": {
        "id": "75_nrtqbki4Z"
      },
      "source": [
        "Este gráfico muestra poca mejora, o incluso degradación en el error de validación después de aproximadamente 100 épocas. Actualicemos la llamada model.fit para detener automáticamente el entrenamiento cuando el puntaje de validación no mejore. Utilizaremos una * devolución de llamada de EarlyStopping * que pruebe una condición de entrenamiento para cada época. Si transcurre una cantidad determinada de épocas sin mostrar mejoría, entonces detiene automáticamente el entrenamiento."
      ]
    },
    {
      "cell_type": "code",
      "metadata": {
        "id": "ZE9-xenIkjpE",
        "colab": {
          "base_uri": "https://localhost:8080/",
          "height": 583
        },
        "outputId": "901bbb91-a82d-4248-ff26-40c0698d24a5"
      },
      "source": [
        "model = build_model()\n",
        "\n",
        "# The patience parameter is the amount of epochs to check for improvement\n",
        "early_stop = keras.callbacks.EarlyStopping(monitor='val_loss', patience=10)\n",
        "\n",
        "history = model.fit(normed_train_data, train_labels, epochs=EPOCHS,\n",
        "                    validation_split = 0.2, verbose=0, callbacks=[early_stop, PrintDot()])\n",
        "\n",
        "plot_history(history)"
      ],
      "execution_count": null,
      "outputs": [
        {
          "output_type": "stream",
          "text": [
            "\n",
            "...................................................................."
          ],
          "name": "stdout"
        },
        {
          "output_type": "display_data",
          "data": {
            "image/png": "[encoded data removed]",
            "text/plain": [
              "<Figure size 432x288 with 1 Axes>"
            ]
          },
          "metadata": {
            "tags": [],
            "needs_background": "light"
          }
        },
        {
          "output_type": "display_data",
          "data": {
            "image/png": "[encoded data removed]",
            "text/plain": [
              "<Figure size 432x288 with 1 Axes>"
            ]
          },
          "metadata": {
            "tags": [],
            "needs_background": "light"
          }
        }
      ]
    },
    {
      "cell_type": "markdown",
      "metadata": {
        "id": "3pqYZUrFk76b"
      },
      "source": [
        "## Predecir resultados"
      ]
    },
    {
      "cell_type": "code",
      "metadata": {
        "id": "546V5lUalA1u",
        "colab": {
          "base_uri": "https://localhost:8080/",
          "height": 279
        },
        "outputId": "562490d9-9578-4c7c-90e5-b60e8f3100cf"
      },
      "source": [
        "test_predictions = model.predict(normed_test_data).flatten()\n",
        "\n",
        "plt.scatter(test_labels, test_predictions)\n",
        "plt.xlabel('True Values [MPG]')\n",
        "plt.ylabel('Predictions [MPG]')\n",
        "plt.axis('equal')\n",
        "plt.axis('square')\n",
        "plt.xlim([0,plt.xlim()[1]])\n",
        "plt.ylim([0,plt.ylim()[1]])\n",
        "_ = plt.plot([-100, 100], [-100, 100])\n"
      ],
      "execution_count": null,
      "outputs": [
        {
          "output_type": "display_data",
          "data": {
            "image/png": "[encoded data removed]",
            "text/plain": [
              "<Figure size 432x288 with 1 Axes>"
            ]
          },
          "metadata": {
            "tags": [],
            "needs_background": "light"
          }
        }
      ]
    },
    {
      "cell_type": "markdown",
      "metadata": {
        "id": "328bolIFlEwQ"
      },
      "source": [
        "Podemos pintar un pequeño histograma con los errores cometidos respecto a los valores del conjunto de test."
      ]
    },
    {
      "cell_type": "code",
      "metadata": {
        "id": "miGAGJmklDnD",
        "colab": {
          "base_uri": "https://localhost:8080/",
          "height": 279
        },
        "outputId": "74d5297f-11a6-4b75-85ae-fd4b976b29ac"
      },
      "source": [
        "error = test_predictions - test_labels\n",
        "plt.hist(error, bins = 25)\n",
        "plt.xlabel(\"Prediction Error [MPG]\")\n",
        "_ = plt.ylabel(\"Count\")"
      ],
      "execution_count": null,
      "outputs": [
        {
          "output_type": "display_data",
          "data": {
            "image/png": "[encoded data removed]",
            "text/plain": [
              "<Figure size 432x288 with 1 Axes>"
            ]
          },
          "metadata": {
            "tags": [],
            "needs_background": "light"
          }
        }
      ]
    },
    {
      "cell_type": "markdown",
      "metadata": {
        "id": "tqpk1qA1lX4P"
      },
      "source": [
        "En la gráfica vemos como el grueso de las prediciones se centran en el rango [-2,2], y que pocos casos tiene un error más alto que este."
      ]
    }
  ]
}